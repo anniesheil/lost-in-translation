{
 "cells": [
  {
   "cell_type": "code",
   "execution_count": 40,
   "metadata": {},
   "outputs": [
    {
     "name": "stdout",
     "output_type": "stream",
     "text": [
      "The autoreload extension is already loaded. To reload it, use:\n",
      "  %reload_ext autoreload\n"
     ]
    }
   ],
   "source": [
    "%load_ext autoreload\n",
    "%autoreload 2"
   ]
  },
  {
   "cell_type": "code",
   "execution_count": 54,
   "metadata": {},
   "outputs": [
    {
     "name": "stdout",
     "output_type": "stream",
     "text": [
      "Bing: Arrêtez-vous au nom de l’amour.\n",
      "Alibaba: Arrêtez-vous au nom de l'amour.\n",
      "Baidu: Arrête au nom de l 'amour.\n",
      "\n",
      "Bing: Stop in the name of love.\n",
      "Alibaba: Stop in the name of love.\n",
      "Baidu: Stop in the name of love\n"
     ]
    }
   ],
   "source": [
    "import helpers\n",
    "\n",
    "translations = helpers.get_translation('Stop in the name of love.', 'fr', 'en')\n",
    "\n",
    "print(\"Bing: \" + translations[0] + \"\\nAlibaba: \" + translations[1] + \"\\nBaidu: \" + translations[2])\n",
    "\n",
    "reverse_translations = helpers.reverse_translation(translations, 'fr')\n",
    "\n",
    "print(\"\\nBing: \" + reverse_translations[0] + \"\\nAlibaba: \" + reverse_translations[1] + \"\\nBaidu: \" + reverse_translations[2])\n"
   ]
  },
  {
   "cell_type": "code",
   "execution_count": 46,
   "metadata": {},
   "outputs": [
    {
     "data": {
      "text/plain": [
       "'Hello, my name is Annie.'"
      ]
     },
     "execution_count": 46,
     "metadata": {},
     "output_type": "execute_result"
    }
   ],
   "source": [
    "import helpers\n",
    "\n",
    "helpers.individual_translation(helpers.individual_translation(helpers.individual_translation(\"Hello, my name is Annie.\", 'fr', 'en', 'bing'), 'ar', 'fr', 'bing'), 'en', 'ar', 'bing')"
   ]
  },
  {
   "cell_type": "code",
   "execution_count": 55,
   "metadata": {},
   "outputs": [
    {
     "name": "stdout",
     "output_type": "stream",
     "text": [
      "Hello, my name is Annie.\n",
      "Bonjour, je m’appelle Annie.\n",
      "مرحباً، اسمي آني\n",
      "สวัสดีครับ ผมชื่อแอนนี่\n",
      "Hi, my name is Annie.\n"
     ]
    }
   ],
   "source": [
    "import helpers\n",
    "\n",
    "trans0 = \"Hello, my name is Annie.\"\n",
    "\n",
    "print(trans0)\n",
    "\n",
    "trans1 = helpers.individual_translation(trans0, 'fr', 'en', 'bing')\n",
    "\n",
    "print(trans1)\n",
    "\n",
    "trans2 = helpers.individual_translation(trans1, 'ar', 'fr', 'bing')\n",
    "\n",
    "print(trans2)\n",
    "\n",
    "trans3 = helpers.individual_translation(trans2, 'th', 'ar', 'bing')\n",
    "\n",
    "print(trans3)\n",
    "\n",
    "trans4 = helpers.individual_translation(trans3, 'en', 'th', 'bing')\n",
    "\n",
    "print(trans4)\n"
   ]
  },
  {
   "cell_type": "code",
   "execution_count": 56,
   "metadata": {},
   "outputs": [
    {
     "name": "stdout",
     "output_type": "stream",
     "text": [
      "Hello, my name is Annie.\n",
      "Bonjour, je m 'appelle Annie.\n",
      "مرحبا ، اسمي آن\n",
      "สวัสดีค่ะฉันชื่อแอน\n",
      "Hello, I am\n"
     ]
    }
   ],
   "source": [
    "import helpers\n",
    "\n",
    "trans0 = \"Hello, my name is Annie.\"\n",
    "\n",
    "print(trans0)\n",
    "\n",
    "trans1 = helpers.individual_translation(trans0, 'fr', 'en', 'baidu')\n",
    "\n",
    "print(trans1)\n",
    "\n",
    "trans2 = helpers.individual_translation(trans1, 'ar', 'fr', 'baidu')\n",
    "\n",
    "print(trans2)\n",
    "\n",
    "trans3 = helpers.individual_translation(trans2, 'th', 'ar', 'baidu')\n",
    "\n",
    "print(trans3)\n",
    "\n",
    "trans4 = helpers.individual_translation(trans3, 'en', 'th', 'baidu')\n",
    "\n",
    "print(trans4)\n"
   ]
  },
  {
   "cell_type": "code",
   "execution_count": null,
   "metadata": {},
   "outputs": [],
   "source": []
  }
 ],
 "metadata": {
  "kernelspec": {
   "display_name": "Python 3",
   "language": "python",
   "name": "python3"
  },
  "language_info": {
   "codemirror_mode": {
    "name": "ipython",
    "version": 3
   },
   "file_extension": ".py",
   "mimetype": "text/x-python",
   "name": "python",
   "nbconvert_exporter": "python",
   "pygments_lexer": "ipython3",
   "version": "3.8.3"
  }
 },
 "nbformat": 4,
 "nbformat_minor": 4
}
